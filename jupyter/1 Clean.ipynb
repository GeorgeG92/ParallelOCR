{
 "cells": [
  {
   "cell_type": "code",
   "execution_count": 11,
   "metadata": {},
   "outputs": [],
   "source": [
    "import pandas as pd\n",
    "import numpy as np\n",
    "import os\n",
    "import subprocess\n",
    "\n",
    "parentFolder = './parentdir'\n",
    "outputpath = './output'"
   ]
  },
  {
   "cell_type": "code",
   "execution_count": 10,
   "metadata": {},
   "outputs": [
    {
     "data": {
      "text/plain": [
       "['./parentdir/1/CSA example 1.pdf',\n",
       " './parentdir/1/1.1/1.1.1/CSA example 1.1.1.pdf',\n",
       " './parentdir/1/1.3/CSA example 1.3.pdf',\n",
       " './parentdir/2/2.1/CSA example 2.1.pdf',\n",
       " './parentdir/3/3.1/CSA example 3.1.pdf',\n",
       " './parentdir/3/3.3/CSA example 3.3.pdf',\n",
       " './parentdir/3/3.3/3.3.1/CSA example 3.3.1.pdf',\n",
       " './parentdir/4/4.1/CSA example 4.1.pdf',\n",
       " './parentdir/5/CSA example 0.tiff']"
      ]
     },
     "execution_count": 10,
     "metadata": {},
     "output_type": "execute_result"
    }
   ],
   "source": [
    "def walk_through_files(path, file_extension=('.pdf', '.tiff')):                # can check for both if tuple!\n",
    "    for (dirpath, dirnames, filenames) in os.walk(path):\n",
    "        for filename in filenames:\n",
    "            if filename.endswith(file_extension): \n",
    "                yield os.path.join(dirpath, filename).replace(\"\\\\\",\"/\")        # ensure right backslashes (Windows)!\n",
    "                #yield dirpath+'/'+filename\n",
    "\n",
    "                \n",
    "def generateDocList(directory):\n",
    "    assert os.path.exists(directory), \"Parent Directory does not exist\"\n",
    "    documentsList = []                            \n",
    "    for fname in walk_through_files(directory):\n",
    "        #print(fname)\n",
    "        documentsList.append(fname)\n",
    "    return documentsList\n",
    "\n",
    "fileList = generateDocList(parentFolder)\n",
    "fileList"
   ]
  },
  {
   "cell_type": "code",
   "execution_count": 8,
   "metadata": {},
   "outputs": [
    {
     "data": {
      "text/plain": [
       "['./parentdir/1/CSA example 1.pdf']"
      ]
     },
     "execution_count": 8,
     "metadata": {},
     "output_type": "execute_result"
    }
   ],
   "source": [
    "fileList2 = fileList[:1]\n",
    "fileList2"
   ]
  },
  {
   "cell_type": "code",
   "execution_count": 12,
   "metadata": {},
   "outputs": [],
   "source": [
    "# argparser load arguments and check\n",
    "# a) folder exists!\n",
    "# b) output folder exists: if not create it\n",
    "# c) overwrite output option!\n",
    "\n",
    "if not os.path.exists(outputpath):\n",
    "    os.mkdir(outputpath)"
   ]
  },
  {
   "cell_type": "markdown",
   "metadata": {},
   "source": [
    "# Serial"
   ]
  },
  {
   "cell_type": "code",
   "execution_count": null,
   "metadata": {},
   "outputs": [],
   "source": [
    "popplerPath = \"./poppler-0.68.0_x86\\poppler-0.68.0','bin',''\n"
   ]
  },
  {
   "cell_type": "code",
   "execution_count": 48,
   "metadata": {},
   "outputs": [],
   "source": [
    "dpi=300\n",
    "popplerPath = os.path.join('.', 'poppler-0.68.0_x86',\n",
    "                           'poppler-0.68.0', 'bin','pdftoppm.exe')\n",
    "\n",
    "forceRedo = False\n",
    "\n",
    "assert os.path.exists(popplerPath)"
   ]
  },
  {
   "cell_type": "markdown",
   "metadata": {},
   "source": [
    "## 1 Poppler: pdfs to images"
   ]
  },
  {
   "cell_type": "code",
   "execution_count": 49,
   "metadata": {},
   "outputs": [],
   "source": [
    "from multiprocessing import Pool\n",
    "#import worker"
   ]
  },
  {
   "cell_type": "code",
   "execution_count": 50,
   "metadata": {},
   "outputs": [],
   "source": [
    "# Function to be parallelized - Processes\n",
    "\n",
    "def convert2imageOrMove(pdf_file):\n",
    "    outputfolder = os.path.join(outputpath, os.path.split(fileList2[0])[1].split('.')[0])\n",
    "    outputfile = os.path.join(outputfolder, os.path.split(fileList2[0])[1].split('.')[0]+'.jpg')\n",
    "    if not os.path.exists(outputfolder) or forceRedo:\n",
    "        os.mkdir(outputfolder)\n",
    "        if pdf_file.endswith(\".pdf\"):                              # for pdfs\n",
    "            process = subprocess.Popen('\"%s\" -jpeg -r %s \"%s\" \"%s\"' % (popplerPath, dpi, pdf_file, outputfile))\n",
    "            out, err = process.communicate()\n",
    "        else:                                                      # for tiffs\n",
    "            shutil.copy(pdf_file, newfoldername+'/'+fullfilename)\n",
    "            \n",
    "convert2imageOrMove(fileList2[0])"
   ]
  },
  {
   "cell_type": "markdown",
   "metadata": {},
   "source": [
    "## 2 Tesseract: extract text"
   ]
  },
  {
   "cell_type": "code",
   "execution_count": null,
   "metadata": {},
   "outputs": [],
   "source": []
  }
 ],
 "metadata": {
  "kernelspec": {
   "display_name": "Python 3",
   "language": "python",
   "name": "python3"
  },
  "language_info": {
   "codemirror_mode": {
    "name": "ipython",
    "version": 3
   },
   "file_extension": ".py",
   "mimetype": "text/x-python",
   "name": "python",
   "nbconvert_exporter": "python",
   "pygments_lexer": "ipython3",
   "version": "3.7.5"
  }
 },
 "nbformat": 4,
 "nbformat_minor": 4
}
